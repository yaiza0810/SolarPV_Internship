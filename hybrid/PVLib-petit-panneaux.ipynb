{
 "cells": [
  {
   "cell_type": "code",
   "execution_count": 1,
   "metadata": {},
   "outputs": [
    {
     "name": "stderr",
     "output_type": "stream",
     "text": [
      "/Users/yaizabermudez/opt/anaconda3/lib/python3.8/site-packages/scipy/__init__.py:138: UserWarning: A NumPy version >=1.16.5 and <1.23.0 is required for this version of SciPy (detected version 1.23.5)\n",
      "  warnings.warn(f\"A NumPy version >={np_minversion} and <{np_maxversion} is required for this version of \"\n"
     ]
    }
   ],
   "source": [
    "import os\n",
    "import itertools\n",
    "import matplotlib.pyplot as plt\n",
    "import pandas as pd \n",
    "import pvlib\n",
    "import numpy as np\n",
    "from pvlib import clearsky, atmosphere, solarposition\n",
    "from pvlib.location import Location\n",
    "from pvlib import tracking\n",
    "from pvlib.bifacial.pvfactors import pvfactors_timeseries\n",
    "from pvlib import temperature\n",
    "from pvlib.pvsystem import PVSystem, FixedMount\n",
    "from pvlib.location import Location\n",
    "from pvlib.modelchain import ModelChain\n",
    "from pvlib.temperature import TEMPERATURE_MODEL_PARAMETERS\n",
    "\n",
    "\n",
    "from pvlib.iotools import read_tmy3\n",
    "from matplotlib import rcParams\n",
    "\n",
    "\n",
    "rcParams['figure.figsize'] = 20, 6\n",
    "rcParams['lines.linewidth'] = 2.5"
   ]
  },
  {
   "cell_type": "code",
   "execution_count": 2,
   "metadata": {},
   "outputs": [],
   "source": [
    "df_prod = pd.read_csv(\"data/Merged_2020-2022_weather_data.csv\")"
   ]
  },
  {
   "cell_type": "code",
   "execution_count": 25,
   "metadata": {},
   "outputs": [],
   "source": [
    "df_prod['DateHeure'] = pd.to_datetime(df_prod.DateHeure, format ='%Y-%m-%d %H:%M:%S') \n",
    "df_prod.set_index('DateHeure', inplace=True)\n",
    "df_prod.sort_index(inplace=True)\n",
    "df_floor = df_prod['Prod. Photovoltaique (kWh)']"
   ]
  },
  {
   "cell_type": "code",
   "execution_count": 5,
   "metadata": {},
   "outputs": [],
   "source": [
    "data_frame_roof = df_roof.copy()\n"
   ]
  },
  {
   "cell_type": "markdown",
   "metadata": {},
   "source": [
    "## Physical model"
   ]
  },
  {
   "cell_type": "code",
   "execution_count": 6,
   "metadata": {},
   "outputs": [],
   "source": [
    "lat = 45.20 # Latitude Grenoble\n",
    "lon = 5.70 # Longitude Grenoble\n",
    "tz = 'Etc/GMT-2'\n",
    "altitude = 212"
   ]
  },
  {
   "cell_type": "code",
   "execution_count": 7,
   "metadata": {},
   "outputs": [],
   "source": [
    "start = '2020-01-01'\n",
    "end = '2022-12-31 23:00:00'\n",
    "\n",
    "data_frame_roof = data_frame_roof.loc[data_frame_roof.index <= end]\n",
    "data_frame_roof = data_frame_roof.loc[data_frame_roof.index >= start]\n",
    "real  = data_frame_roof.values\n",
    "\n",
    "times = pd.date_range(start, end, freq='1H', tz=tz)"
   ]
  },
  {
   "cell_type": "code",
   "execution_count": 8,
   "metadata": {},
   "outputs": [],
   "source": [
    "def physical_val(lat=45.20, lon=5.7, altitude=212, surface_tilt=10, surface_azimuth=60, tz='Etc/GMT-2', times = times):\n",
    "\n",
    "    # create location object and get clearsky data\n",
    "    site_location = Location(lat, lon,  tz=tz, altitude = altitude, name='Grenoble')\n",
    "\n",
    "    #compute solar position trough times \n",
    "    solar_position = site_location.get_solarposition(times)\n",
    "\n",
    "    # Compute absolute airmass\n",
    "    airmass_relative  = pvlib.atmosphere.get_relative_airmass(solar_position['zenith'])\n",
    "    airmass_absolute = pvlib.atmosphere.get_absolute_airmass(airmass_relative)\n",
    "\n",
    "    # Compute aoi\n",
    "    incidence_angle = pvlib.irradiance.aoi(surface_tilt=surface_tilt, surface_azimuth=surface_azimuth, solar_zenith= solar_position['zenith'], \n",
    "                            solar_azimuth= solar_position['azimuth'])\n",
    "    \n",
    "    return solar_position,airmass_relative, airmass_absolute, incidence_angle, site_location\n",
    "\n",
    "\n",
    "\n"
   ]
  },
  {
   "cell_type": "code",
   "execution_count": 9,
   "metadata": {},
   "outputs": [],
   "source": [
    "s_position, airmass_r, airmass_a, angle, location = physical_val()"
   ]
  },
  {
   "cell_type": "code",
   "execution_count": 10,
   "metadata": {},
   "outputs": [],
   "source": [
    "def calcule_pred(model_clear_sky, solar_position, airmass_absolute, incidence_angle, site_location, power=183, model_irrad = 'haydavies', tilt=6, angle=139): \n",
    "    # cs = site_location.get_clearsky(times)\n",
    "    module = pvlib.pvsystem.retrieve_sam('SandiaMod')['Schott_Solar_ASE_300_DGF_50__320___2007__E__']\n",
    "    cec_inverters = pvlib.pvsystem.retrieve_sam('cecinverter')['ABB__MICRO_0_25_I_OUTD_US_208__208V_']\n",
    "\n",
    "    temperature_model_parameters = TEMPERATURE_MODEL_PARAMETERS['sapm']['open_rack_glass_glass']\n",
    "    \n",
    "    sapm_system = PVSystem(\n",
    "        surface_tilt= tilt, \n",
    "        surface_azimuth= angle,\n",
    "        module_parameters=module,\n",
    "        inverter_parameters=cec_inverters,\n",
    "        temperature_model_parameters=temperature_model_parameters\n",
    "    )\n",
    "    # print(sapm_system)\n",
    "    \n",
    "    irradiance = PVSystem.get_irradiance(sapm_system, solar_position['zenith'], solar_position['azimuth'], model_clear_sky['dni'], model_clear_sky['ghi'], model_clear_sky['dhi'], model=model_irrad)\n",
    "\n",
    "   \n",
    "    # Compute effective irradiance\n",
    "    effective_irradiance = pvlib.pvsystem.sapm_effective_irradiance(irradiance['poa_direct'], irradiance['poa_diffuse'], airmass_absolute, \n",
    "                                                  incidence_angle, module )\n",
    "\n",
    "    # celltemp = pvlib.pvsystem.sapm_celltemp(irradiance['poa_direct'], wind, temperature)\n",
    "    m_pow = (module[\"Impo\"] * module[\"Vmpo\"]) \n",
    "    \n",
    "    df_pred=solar_position.copy()\n",
    "\n",
    "    pv_produced = pvlib.pvsystem.sapm(effective_irradiance, 25, module)\n",
    "    pv_produced [\"p_mp\"] = (pv_produced [\"p_mp\"]* power)/(m_pow/1000) \n",
    "\n",
    "    pv_produced [\"p_mp\"] /=1000  # kWh\n",
    "\n",
    "    df_pred['power'] = pv_produced['p_mp']\n",
    "\n",
    "    df_pred = df_pred.loc[df_pred.index >= start]\n",
    "    df_pred = df_pred.loc[df_pred.index <= end]\n",
    "    df_pred = df_pred['power']\n",
    "    \n",
    "\n",
    "    return df_pred"
   ]
  },
  {
   "cell_type": "code",
   "execution_count": 11,
   "metadata": {},
   "outputs": [],
   "source": [
    "linke_turbidity = pvlib.clearsky.lookup_linke_turbidity(times, lat, lon, filepath=None, interp_turbidity=True)"
   ]
  },
  {
   "cell_type": "code",
   "execution_count": 12,
   "metadata": {},
   "outputs": [],
   "source": [
    "model_ineichen= pvlib.clearsky.ineichen(s_position['apparent_zenith'], airmass_a, linke_turbidity, altitude=212, dni_extra=1364.0, perez_enhancement=False)"
   ]
  },
  {
   "cell_type": "code",
   "execution_count": 13,
   "metadata": {},
   "outputs": [],
   "source": [
    "df_pred = calcule_pred(model_ineichen, s_position, airmass_a, angle, location, power=22, model_irrad = 'haydavies', tilt=10, angle=67  )\n",
    "pred = df_pred.values"
   ]
  },
  {
   "cell_type": "code",
   "execution_count": 14,
   "metadata": {},
   "outputs": [
    {
     "ename": "NameError",
     "evalue": "name 'data_frame_floor' is not defined",
     "output_type": "error",
     "traceback": [
      "\u001b[0;31m---------------------------------------------------------------------------\u001b[0m",
      "\u001b[0;31mNameError\u001b[0m                                 Traceback (most recent call last)",
      "\u001b[0;32m<ipython-input-14-04bbff7f4605>\u001b[0m in \u001b[0;36m<module>\u001b[0;34m\u001b[0m\n\u001b[1;32m      1\u001b[0m \u001b[0mplt\u001b[0m\u001b[0;34m.\u001b[0m\u001b[0mplot\u001b[0m\u001b[0;34m(\u001b[0m\u001b[0mdf_pred\u001b[0m\u001b[0;34m)\u001b[0m\u001b[0;34m\u001b[0m\u001b[0;34m\u001b[0m\u001b[0m\n\u001b[0;32m----> 2\u001b[0;31m \u001b[0mplt\u001b[0m\u001b[0;34m.\u001b[0m\u001b[0mplot\u001b[0m\u001b[0;34m(\u001b[0m\u001b[0mdata_frame_floor\u001b[0m\u001b[0;34m)\u001b[0m\u001b[0;34m\u001b[0m\u001b[0;34m\u001b[0m\u001b[0m\n\u001b[0m\u001b[1;32m      3\u001b[0m \u001b[0mplt\u001b[0m\u001b[0;34m.\u001b[0m\u001b[0mylabel\u001b[0m\u001b[0;34m(\u001b[0m\u001b[0;34m'KiloWatts'\u001b[0m\u001b[0;34m)\u001b[0m\u001b[0;34m\u001b[0m\u001b[0;34m\u001b[0m\u001b[0m\n\u001b[1;32m      4\u001b[0m \u001b[0mplt\u001b[0m\u001b[0;34m.\u001b[0m\u001b[0mxlabel\u001b[0m\u001b[0;34m(\u001b[0m\u001b[0;34m\"Time\"\u001b[0m\u001b[0;34m)\u001b[0m\u001b[0;34m\u001b[0m\u001b[0;34m\u001b[0m\u001b[0m\n\u001b[1;32m      5\u001b[0m \u001b[0mplt\u001b[0m\u001b[0;34m.\u001b[0m\u001b[0mshow\u001b[0m\u001b[0;34m(\u001b[0m\u001b[0;34m)\u001b[0m\u001b[0;34m\u001b[0m\u001b[0;34m\u001b[0m\u001b[0m\n",
      "\u001b[0;31mNameError\u001b[0m: name 'data_frame_floor' is not defined"
     ]
    },
    {
     "data": {
      "image/png": "[encoded data removed]",
      "text/plain": [
       "<Figure size 1440x432 with 1 Axes>"
      ]
     },
     "metadata": {
      "needs_background": "light"
     },
     "output_type": "display_data"
    }
   ],
   "source": [
    "plt.plot(df_pred)\n",
    "plt.plot(data_frame_floor)\n",
    "plt.ylabel('KiloWatts')\n",
    "plt.xlabel(\"Time\")\n",
    "plt.show()"
   ]
  },
  {
   "cell_type": "code",
   "execution_count": 37,
   "metadata": {},
   "outputs": [],
   "source": [
    "#df_pred.to_csv('data/pred_2020_2022.csv')"
   ]
  },
  {
   "cell_type": "code",
   "execution_count": null,
   "metadata": {},
   "outputs": [],
   "source": []
  }
 ],
 "metadata": {
  "kernelspec": {
   "display_name": "Python 3 (ipykernel)",
   "language": "python",
   "name": "python3"
  },
  "language_info": {
   "codemirror_mode": {
    "name": "ipython",
    "version": 3
   },
   "file_extension": ".py",
   "mimetype": "text/x-python",
   "name": "python",
   "nbconvert_exporter": "python",
   "pygments_lexer": "ipython3",
   "version": "3.7.9"
  },
  "vscode": {
   "interpreter": {
    "hash": "a7455cdfac60d7b8142d1b29862355b106b121e0abdf15915c090cbbd74f1dc9"
   }
  }
 },
 "nbformat": 4,
 "nbformat_minor": 4
}
