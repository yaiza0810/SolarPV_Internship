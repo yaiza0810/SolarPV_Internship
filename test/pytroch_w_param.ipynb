{
 "cells": [
  {
   "cell_type": "code",
   "execution_count": null,
   "metadata": {},
   "outputs": [],
   "source": []
  },
  {
   "cell_type": "code",
   "execution_count": 4,
   "metadata": {},
   "outputs": [],
   "source": [
    "import cv2\n",
    "import os\n",
    "import numpy as np\n",
    "import matplotlib.pyplot as plt\n",
    "import pandas as pd\n",
    "\n",
    "import torch\n",
    "import torch.nn as nn\n",
    "import torch.optim as optim\n",
    "from torch.utils.data import DataLoader\n",
    "from torchvision import datasets, transforms\n",
    "from torch.utils.data import TensorDataset, DataLoader\n",
    "from pvlib.iotools import read_tmy3\n",
    "from matplotlib import rcParams\n",
    "\n",
    "\n",
    "rcParams['figure.figsize'] = 20, 6\n",
    "rcParams['lines.linewidth'] = 2.5"
   ]
  },
  {
   "cell_type": "code",
   "execution_count": null,
   "metadata": {},
   "outputs": [],
   "source": [
    "class CustomLayer(nn.Module):\n",
    "  def __init__(self, Nh:int) -> None:\n",
    "    super().__init__()\n",
    "    self.param = nn.Parameter(torch.rand(Nh, 1, 1))\n",
    "  def forward(self, x: torch.Tensor) -> torch.Tensor:\n",
    "    return self.param * x"
   ]
  }
 ],
 "metadata": {
  "kernelspec": {
   "display_name": "Python 3.8.8 ('base')",
   "language": "python",
   "name": "python3"
  },
  "language_info": {
   "codemirror_mode": {
    "name": "ipython",
    "version": 3
   },
   "file_extension": ".py",
   "mimetype": "text/x-python",
   "name": "python",
   "nbconvert_exporter": "python",
   "pygments_lexer": "ipython3",
   "version": "3.8.17"
  },
  "orig_nbformat": 4,
  "vscode": {
   "interpreter": {
    "hash": "a7455cdfac60d7b8142d1b29862355b106b121e0abdf15915c090cbbd74f1dc9"
   }
  }
 },
 "nbformat": 4,
 "nbformat_minor": 2
}
