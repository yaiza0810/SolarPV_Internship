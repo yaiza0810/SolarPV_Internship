{
 "cells": [
  {
   "cell_type": "code",
   "execution_count": 1,
   "metadata": {},
   "outputs": [
    {
     "name": "stderr",
     "output_type": "stream",
     "text": [
      "/Users/yaizabermudez/opt/anaconda3/lib/python3.8/site-packages/scipy/__init__.py:138: UserWarning: A NumPy version >=1.16.5 and <1.23.0 is required for this version of SciPy (detected version 1.23.5)\n",
      "  warnings.warn(f\"A NumPy version >={np_minversion} and <{np_maxversion} is required for this version of \"\n"
     ]
    }
   ],
   "source": [
    "import os\n",
    "import itertools\n",
    "import matplotlib.pyplot as plt\n",
    "import pandas as pd \n",
    "import pvlib\n",
    "import numpy as np\n",
    "from pvlib import clearsky, atmosphere, solarposition\n",
    "from pvlib.location import Location\n",
    "from pvlib import tracking\n",
    "from pvlib.bifacial.pvfactors import pvfactors_timeseries\n",
    "from pvlib import temperature\n",
    "from pvlib.pvsystem import PVSystem, FixedMount\n",
    "from pvlib.location import Location\n",
    "from pvlib.modelchain import ModelChain\n",
    "from pvlib.temperature import TEMPERATURE_MODEL_PARAMETERS\n",
    "\n",
    "\n",
    "from pvlib.iotools import read_tmy3\n",
    "from matplotlib import rcParams\n",
    "\n",
    "\n",
    "rcParams['figure.figsize'] = 20, 6\n",
    "rcParams['lines.linewidth'] = 2.5"
   ]
  },
  {
   "cell_type": "code",
   "execution_count": 5,
   "metadata": {},
   "outputs": [
    {
     "data": {
      "text/html": [
       "<div>\n",
       "<style scoped>\n",
       "    .dataframe tbody tr th:only-of-type {\n",
       "        vertical-align: middle;\n",
       "    }\n",
       "\n",
       "    .dataframe tbody tr th {\n",
       "        vertical-align: top;\n",
       "    }\n",
       "\n",
       "    .dataframe thead th {\n",
       "        text-align: right;\n",
       "    }\n",
       "</style>\n",
       "<table border=\"1\" class=\"dataframe\">\n",
       "  <thead>\n",
       "    <tr style=\"text-align: right;\">\n",
       "      <th></th>\n",
       "      <th>DateHeure</th>\n",
       "      <th>Valeur_HUMIDITY</th>\n",
       "      <th>Valeur_GLOBAL_RADIANCE</th>\n",
       "      <th>Valeur_TEMPERATURE</th>\n",
       "      <th>Prod. Photovoltaique (kWh)</th>\n",
       "      <th>Rayonnement (W/m2)</th>\n",
       "    </tr>\n",
       "  </thead>\n",
       "  <tbody>\n",
       "    <tr>\n",
       "      <th>0</th>\n",
       "      <td>2020-01-01 00:00:00</td>\n",
       "      <td>90.7</td>\n",
       "      <td>0.0</td>\n",
       "      <td>1.937</td>\n",
       "      <td>0.0</td>\n",
       "      <td>6.236033</td>\n",
       "    </tr>\n",
       "    <tr>\n",
       "      <th>1</th>\n",
       "      <td>2020-01-01 01:00:00</td>\n",
       "      <td>90.5</td>\n",
       "      <td>0.0</td>\n",
       "      <td>1.695</td>\n",
       "      <td>0.0</td>\n",
       "      <td>6.184950</td>\n",
       "    </tr>\n",
       "    <tr>\n",
       "      <th>2</th>\n",
       "      <td>2020-01-01 02:00:00</td>\n",
       "      <td>91.7</td>\n",
       "      <td>0.0</td>\n",
       "      <td>1.117</td>\n",
       "      <td>0.0</td>\n",
       "      <td>6.211167</td>\n",
       "    </tr>\n",
       "    <tr>\n",
       "      <th>3</th>\n",
       "      <td>2020-01-01 03:00:00</td>\n",
       "      <td>93.2</td>\n",
       "      <td>0.0</td>\n",
       "      <td>0.599</td>\n",
       "      <td>0.0</td>\n",
       "      <td>6.105450</td>\n",
       "    </tr>\n",
       "    <tr>\n",
       "      <th>4</th>\n",
       "      <td>2020-01-01 04:00:00</td>\n",
       "      <td>94.3</td>\n",
       "      <td>0.0</td>\n",
       "      <td>0.231</td>\n",
       "      <td>0.0</td>\n",
       "      <td>6.158800</td>\n",
       "    </tr>\n",
       "    <tr>\n",
       "      <th>...</th>\n",
       "      <td>...</td>\n",
       "      <td>...</td>\n",
       "      <td>...</td>\n",
       "      <td>...</td>\n",
       "      <td>...</td>\n",
       "      <td>...</td>\n",
       "    </tr>\n",
       "    <tr>\n",
       "      <th>26299</th>\n",
       "      <td>2022-12-31 19:00:00</td>\n",
       "      <td>79.9</td>\n",
       "      <td>0.0</td>\n",
       "      <td>13.000</td>\n",
       "      <td>0.0</td>\n",
       "      <td>0.000000</td>\n",
       "    </tr>\n",
       "    <tr>\n",
       "      <th>26300</th>\n",
       "      <td>2022-12-31 20:00:00</td>\n",
       "      <td>79.5</td>\n",
       "      <td>0.0</td>\n",
       "      <td>13.100</td>\n",
       "      <td>0.0</td>\n",
       "      <td>0.000000</td>\n",
       "    </tr>\n",
       "    <tr>\n",
       "      <th>26301</th>\n",
       "      <td>2022-12-31 21:00:00</td>\n",
       "      <td>79.5</td>\n",
       "      <td>0.0</td>\n",
       "      <td>13.400</td>\n",
       "      <td>0.0</td>\n",
       "      <td>0.000000</td>\n",
       "    </tr>\n",
       "    <tr>\n",
       "      <th>26302</th>\n",
       "      <td>2022-12-31 22:00:00</td>\n",
       "      <td>80.5</td>\n",
       "      <td>0.0</td>\n",
       "      <td>13.400</td>\n",
       "      <td>0.0</td>\n",
       "      <td>0.000000</td>\n",
       "    </tr>\n",
       "    <tr>\n",
       "      <th>26303</th>\n",
       "      <td>2022-12-31 23:00:00</td>\n",
       "      <td>80.9</td>\n",
       "      <td>0.0</td>\n",
       "      <td>13.300</td>\n",
       "      <td>0.0</td>\n",
       "      <td>0.000000</td>\n",
       "    </tr>\n",
       "  </tbody>\n",
       "</table>\n",
       "<p>26304 rows × 6 columns</p>\n",
       "</div>"
      ],
      "text/plain": [
       "                 DateHeure  Valeur_HUMIDITY  Valeur_GLOBAL_RADIANCE  \\\n",
       "0      2020-01-01 00:00:00             90.7                     0.0   \n",
       "1      2020-01-01 01:00:00             90.5                     0.0   \n",
       "2      2020-01-01 02:00:00             91.7                     0.0   \n",
       "3      2020-01-01 03:00:00             93.2                     0.0   \n",
       "4      2020-01-01 04:00:00             94.3                     0.0   \n",
       "...                    ...              ...                     ...   \n",
       "26299  2022-12-31 19:00:00             79.9                     0.0   \n",
       "26300  2022-12-31 20:00:00             79.5                     0.0   \n",
       "26301  2022-12-31 21:00:00             79.5                     0.0   \n",
       "26302  2022-12-31 22:00:00             80.5                     0.0   \n",
       "26303  2022-12-31 23:00:00             80.9                     0.0   \n",
       "\n",
       "       Valeur_TEMPERATURE  Prod. Photovoltaique (kWh)  Rayonnement (W/m2)  \n",
       "0                   1.937                         0.0            6.236033  \n",
       "1                   1.695                         0.0            6.184950  \n",
       "2                   1.117                         0.0            6.211167  \n",
       "3                   0.599                         0.0            6.105450  \n",
       "4                   0.231                         0.0            6.158800  \n",
       "...                   ...                         ...                 ...  \n",
       "26299              13.000                         0.0            0.000000  \n",
       "26300              13.100                         0.0            0.000000  \n",
       "26301              13.400                         0.0            0.000000  \n",
       "26302              13.400                         0.0            0.000000  \n",
       "26303              13.300                         0.0            0.000000  \n",
       "\n",
       "[26304 rows x 6 columns]"
      ]
     },
     "execution_count": 5,
     "metadata": {},
     "output_type": "execute_result"
    }
   ],
   "source": [
    "df_prod = pd.read_csv(\"/Users/yaizabermudez/internship/data_stage/Merged_2020-2022_weather_data.csv\")\n",
    "df_prod"
   ]
  },
  {
   "cell_type": "code",
   "execution_count": 6,
   "metadata": {},
   "outputs": [],
   "source": [
    "df_prod['DateHeure'] = pd.to_datetime(df_prod.DateHeure, format ='%Y-%m-%d %H:%M:%S') \n",
    "df_prod.set_index('DateHeure', inplace=True)\n",
    "df_prod.sort_index(inplace=True)\n",
    "df_floor = df_prod['Prod. Photovoltaique (kWh)']"
   ]
  },
  {
   "cell_type": "code",
   "execution_count": 7,
   "metadata": {},
   "outputs": [],
   "source": [
    "data_frame_floor = df_floor.copy()\n"
   ]
  },
  {
   "cell_type": "markdown",
   "metadata": {},
   "source": [
    "## Physical model"
   ]
  },
  {
   "cell_type": "code",
   "execution_count": 8,
   "metadata": {},
   "outputs": [],
   "source": [
    "lat = 45.20 # Latitude Grenoble\n",
    "lon = 5.70 # Longitude Grenoble\n",
    "tz = 'Etc/GMT+2'\n",
    "altitude = 212\n"
   ]
  },
  {
   "cell_type": "code",
   "execution_count": 9,
   "metadata": {},
   "outputs": [],
   "source": [
    "start = '2020-01-01'\n",
    "end = '2022-12-31 23:00:00'\n",
    "\n",
    "data_frame_floor = data_frame_floor.loc[data_frame_floor.index <= end]\n",
    "data_frame_floor = data_frame_floor.loc[data_frame_floor.index >= start]\n",
    "real  = data_frame_floor.values\n",
    "\n",
    "times = pd.date_range(start, end, freq='1H', tz=tz)"
   ]
  },
  {
   "cell_type": "code",
   "execution_count": 10,
   "metadata": {},
   "outputs": [],
   "source": [
    "\n",
    "\n",
    "def physical_val(lat=45.20, lon=5.7, altitude=212, tz='Etc/GMT+2', times = times):\n",
    "\n",
    "    # create location object and get clearsky data\n",
    "    site_location = Location(lat, lon,  tz=tz, altitude = altitude, name='Grenoble')\n",
    "\n",
    "    #compute solar position trough times \n",
    "    solar_position = site_location.get_solarposition(times)\n",
    "\n",
    "    # Compute absolute airmass\n",
    "    airmass_relative  = pvlib.atmosphere.get_relative_airmass(solar_position['zenith'])\n",
    "    airmass_absolute = pvlib.atmosphere.get_absolute_airmass(airmass_relative)\n",
    "\n",
    "    # Compute aoi\n",
    "    incidence_angle = pvlib.irradiance.aoi(surface_tilt=10, surface_azimuth= 90, solar_zenith= solar_position['zenith'], \n",
    "                            solar_azimuth= solar_position['azimuth'])\n",
    "    \n",
    "    return solar_position,airmass_relative, airmass_absolute, incidence_angle, site_location\n",
    "\n",
    "\n",
    "\n"
   ]
  },
  {
   "cell_type": "code",
   "execution_count": 11,
   "metadata": {},
   "outputs": [],
   "source": [
    "s_position, airmass_r, airmass_a, angle, location = physical_val()"
   ]
  },
  {
   "cell_type": "code",
   "execution_count": 12,
   "metadata": {},
   "outputs": [],
   "source": [
    "def calcule_pred(model_clear_sky, solar_position, airmass_absolute, incidence_angle, site_location, power=183, model_irrad = 'haydavies', tilt=6, angle=139): \n",
    "    # cs = site_location.get_clearsky(times)\n",
    "    module = pvlib.pvsystem.retrieve_sam('SandiaMod')['Schott_Solar_ASE_300_DGF_50__320___2007__E__']\n",
    "    cec_inverters = pvlib.pvsystem.retrieve_sam('cecinverter')['ABB__MICRO_0_25_I_OUTD_US_208__208V_']\n",
    "\n",
    "    temperature_model_parameters = TEMPERATURE_MODEL_PARAMETERS['sapm']['open_rack_glass_glass']\n",
    "    \n",
    "    sapm_system = PVSystem(\n",
    "    surface_tilt= tilt, \n",
    "    surface_azimuth= angle,\n",
    "    module_parameters=module,\n",
    "    inverter_parameters=cec_inverters,\n",
    "    temperature_model_parameters=temperature_model_parameters)\n",
    "    # print(sapm_system)\n",
    "    \n",
    "    irradiance = PVSystem.get_irradiance(sapm_system, solar_position['zenith'], solar_position['azimuth'], model_clear_sky['dni'], model_clear_sky['ghi'], model_clear_sky['dhi'], model=model_irrad)\n",
    "\n",
    "   \n",
    "    # Compute effective irradiance\n",
    "    effective_irradiance = pvlib.pvsystem.sapm_effective_irradiance(irradiance['poa_direct'], irradiance['poa_diffuse'], airmass_absolute, \n",
    "                                                  incidence_angle, module )\n",
    "\n",
    "    # celltemp = pvlib.pvsystem.sapm_celltemp(irradiance['poa_direct'], wind, temperature)\n",
    "    m_pow = (module[\"Impo\"] * module[\"Vmpo\"]) \n",
    "    \n",
    "    df_pred=solar_position.copy()\n",
    "\n",
    "    pv_produced = pvlib.pvsystem.sapm(effective_irradiance, 25, module)\n",
    "    pv_produced [\"p_mp\"] = (pv_produced [\"p_mp\"]* power)/(m_pow/1000) \n",
    "\n",
    "    pv_produced [\"p_mp\"] /=1000  # kWh\n",
    "\n",
    "    df_pred['power'] = pv_produced['p_mp']\n",
    "\n",
    "    df_pred = df_pred.loc[df_pred.index >= start]\n",
    "    df_pred = df_pred.loc[df_pred.index <= end]\n",
    "    df_pred = df_pred['power']\n",
    "    \n",
    "\n",
    "    return df_pred"
   ]
  },
  {
   "cell_type": "markdown",
   "metadata": {},
   "source": [
    "First model using ineichen for clearsky"
   ]
  },
  {
   "cell_type": "code",
   "execution_count": 13,
   "metadata": {},
   "outputs": [],
   "source": [
    "linke_turbidity = pvlib.clearsky.lookup_linke_turbidity(times, lat, lon, filepath=None, interp_turbidity=True)"
   ]
  },
  {
   "cell_type": "code",
   "execution_count": 14,
   "metadata": {},
   "outputs": [],
   "source": [
    "model_ineichen= pvlib.clearsky.ineichen(s_position['apparent_zenith'], airmass_a, linke_turbidity, altitude=212, dni_extra=1364.0, perez_enhancement=False)"
   ]
  },
  {
   "cell_type": "code",
   "execution_count": 15,
   "metadata": {},
   "outputs": [],
   "source": [
    "df_pred = calcule_pred(model_ineichen, s_position, airmass_a, angle, location,power=20, model_irrad = 'haydavies', tilt=10, angle=90  )\n",
    "pred = df_pred.values"
   ]
  },
  {
   "cell_type": "code",
   "execution_count": 16,
   "metadata": {},
   "outputs": [
    {
     "name": "stdout",
     "output_type": "stream",
     "text": [
      "Test Score: 6.52 RMSE\n",
      "RMSE en % :  33.450786192610764\n",
      "MAE :  4.056205599984776\n",
      "MAPE :  7089246043251503.0\n",
      "R2 :  -1.7339529226028807\n"
     ]
    }
   ],
   "source": [
    "from sklearn.metrics import mean_squared_error as MSE\n",
    "from sklearn.metrics import mean_absolute_percentage_error as MAPE\n",
    "from sklearn.metrics import mean_absolute_error as MAE\n",
    "from sklearn.metrics import r2_score as APE\n",
    "testScore = np.sqrt(MSE(real, pred))\n",
    "print('Test Score: %.2f RMSE' % (testScore))\n",
    "print('RMSE en % : ', testScore*100/real.max())\n",
    "test_mae = MAE(real, pred) \n",
    "print(\"MAE : \",test_mae)\n",
    "test_mape = MAPE(real, pred) \n",
    "print(\"MAPE : \",test_mape)\n",
    "test_ape = APE(real, pred) \n",
    "print(\"R2 : \",test_ape)\n",
    "\n",
    "# real.max()"
   ]
  },
  {
   "cell_type": "code",
   "execution_count": 17,
   "metadata": {},
   "outputs": [
    {
     "data": {
      "image/png": "[encoded data removed]",
      "text/plain": [
       "<Figure size 1440x432 with 1 Axes>"
      ]
     },
     "metadata": {
      "needs_background": "light"
     },
     "output_type": "display_data"
    }
   ],
   "source": [
    "plt.plot(df_pred)\n",
    "plt.plot(data_frame_floor)\n",
    "plt.ylabel('KiloWatts')\n",
    "plt.xlabel(\"Time\")\n",
    "plt.show()"
   ]
  },
  {
   "cell_type": "markdown",
   "metadata": {},
   "source": [
    "avec perez irrad model"
   ]
  },
  {
   "cell_type": "code",
   "execution_count": 18,
   "metadata": {},
   "outputs": [],
   "source": [
    "model_irradiance = 'perez'"
   ]
  },
  {
   "cell_type": "code",
   "execution_count": 19,
   "metadata": {},
   "outputs": [],
   "source": [
    "df_pred = calcule_pred(model_ineichen, s_position, airmass_a, angle, location, power=20, model_irrad = model_irradiance, tilt=10, angle=90 )\n",
    "pred = df_pred.values"
   ]
  },
  {
   "cell_type": "code",
   "execution_count": 20,
   "metadata": {},
   "outputs": [
    {
     "name": "stdout",
     "output_type": "stream",
     "text": [
      "Test Score: 6.57 RMSE\n",
      "RMSE en % :  33.66675458090918\n",
      "MAE :  4.0869571215961065\n",
      "MAPE :  7177738697031014.0\n",
      "R2 :  -1.7693693374186963\n"
     ]
    }
   ],
   "source": [
    "testScore = np.sqrt(MSE(real, pred))\n",
    "print('Test Score: %.2f RMSE' % (testScore))\n",
    "print('RMSE en % : ', testScore*100/real.max())\n",
    "test_mae = MAE(real, pred) \n",
    "print(\"MAE : \",test_mae)\n",
    "test_mape = MAPE(real, pred) \n",
    "print(\"MAPE : \",test_mape)\n",
    "test_ape = APE(real, pred) \n",
    "print(\"R2 : \",test_ape)"
   ]
  },
  {
   "cell_type": "code",
   "execution_count": 21,
   "metadata": {},
   "outputs": [],
   "source": [
    "model_irradiance = 'isotropic'"
   ]
  },
  {
   "cell_type": "code",
   "execution_count": 22,
   "metadata": {},
   "outputs": [],
   "source": [
    "df_pred = calcule_pred(model_ineichen, s_position, airmass_a, angle, location, power=20, model_irrad = model_irradiance, tilt=10, angle=90 )\n",
    "pred = df_pred.values"
   ]
  },
  {
   "cell_type": "code",
   "execution_count": 23,
   "metadata": {},
   "outputs": [
    {
     "name": "stdout",
     "output_type": "stream",
     "text": [
      "Test Score: 6.46 RMSE\n",
      "RMSE en % :  33.153573917299354\n",
      "MAE :  4.016894196910976\n",
      "MAPE :  6985610152814111.0\n",
      "R2 :  -1.6855860757324974\n"
     ]
    }
   ],
   "source": [
    "\n",
    "testScore = np.sqrt(MSE(real, pred))\n",
    "print('Test Score: %.2f RMSE' % (testScore))\n",
    "print('RMSE en % : ', testScore*100/real.max())\n",
    "test_mae = MAE(real, pred) \n",
    "print(\"MAE : \",test_mae)\n",
    "test_mape = MAPE(real, pred) \n",
    "print(\"MAPE : \",test_mape)\n",
    "test_ape = APE(real, pred) \n",
    "print(\"R2 : \",test_ape)"
   ]
  },
  {
   "cell_type": "code",
   "execution_count": 24,
   "metadata": {},
   "outputs": [],
   "source": [
    "model_irradiance = 'klucher'"
   ]
  },
  {
   "cell_type": "code",
   "execution_count": 25,
   "metadata": {},
   "outputs": [],
   "source": [
    "df_pred = calcule_pred(model_ineichen, s_position, airmass_a, angle, location,power=20, model_irrad= model_irradiance, tilt=10, angle=90  )\n",
    "pred = df_pred.values"
   ]
  },
  {
   "cell_type": "code",
   "execution_count": 26,
   "metadata": {},
   "outputs": [
    {
     "name": "stdout",
     "output_type": "stream",
     "text": [
      "Test Score: 6.62 RMSE\n",
      "RMSE en % :  33.93314850505002\n",
      "MAE :  4.109171216192974\n",
      "MAPE :  7246207827843594.0\n",
      "R2 :  -1.8133689408002702\n"
     ]
    }
   ],
   "source": [
    "\n",
    "testScore = np.sqrt(MSE(real, pred))\n",
    "print('Test Score: %.2f RMSE' % (testScore))\n",
    "print('RMSE en % : ', testScore*100/real.max())\n",
    "test_mae = MAE(real, pred) \n",
    "print(\"MAE : \",test_mae)\n",
    "test_mape = MAPE(real, pred) \n",
    "print(\"MAPE : \",test_mape)\n",
    "test_ape = APE(real, pred) \n",
    "print(\"R2 : \",test_ape)"
   ]
  },
  {
   "cell_type": "code",
   "execution_count": 27,
   "metadata": {},
   "outputs": [
    {
     "data": {
      "image/png": "[encoded data removed]",
      "text/plain": [
       "<Figure size 1440x432 with 1 Axes>"
      ]
     },
     "metadata": {
      "needs_background": "light"
     },
     "output_type": "display_data"
    }
   ],
   "source": [
    "plt.plot(df_pred)\n",
    "plt.plot(data_frame_floor)\n",
    "plt.show()"
   ]
  },
  {
   "cell_type": "markdown",
   "metadata": {},
   "source": [
    "Second model using simplified solis for clear sky"
   ]
  },
  {
   "cell_type": "code",
   "execution_count": 28,
   "metadata": {},
   "outputs": [],
   "source": [
    "model_solis = pvlib.clearsky.simplified_solis(s_position['apparent_elevation'], aod700=0.1, precipitable_water=1.0, pressure=101325.0, dni_extra=1364.0)"
   ]
  },
  {
   "cell_type": "code",
   "execution_count": 29,
   "metadata": {},
   "outputs": [],
   "source": [
    "df_pred = calcule_pred(model_solis, s_position, airmass_a, angle, location,power=20, model_irrad= model_irradiance, tilt=10, angle=90 )\n",
    "pred = df_pred.values"
   ]
  },
  {
   "cell_type": "code",
   "execution_count": 30,
   "metadata": {},
   "outputs": [
    {
     "name": "stdout",
     "output_type": "stream",
     "text": [
      "Test Score: 7.21 RMSE\n",
      "RMSE en % :  36.98673261602077\n",
      "MAE :  4.520262522200935\n",
      "MAPE :  8525934295300376.0\n",
      "R2 :  -2.3424914769102094\n"
     ]
    }
   ],
   "source": [
    "testScore = np.sqrt(MSE(real, pred))\n",
    "print('Test Score: %.2f RMSE' % (testScore))\n",
    "print('RMSE en % : ', testScore*100/real.max())\n",
    "test_mae = MAE(real, pred) \n",
    "print(\"MAE : \",test_mae)\n",
    "test_mape = MAPE(real, pred) \n",
    "print(\"MAPE : \",test_mape)\n",
    "test_ape = APE(real, pred) \n",
    "print(\"R2 : \",test_ape)"
   ]
  },
  {
   "cell_type": "code",
   "execution_count": 31,
   "metadata": {},
   "outputs": [],
   "source": [
    "model_irradiance = 'perez'"
   ]
  },
  {
   "cell_type": "code",
   "execution_count": 32,
   "metadata": {},
   "outputs": [],
   "source": [
    "df_pred = calcule_pred(model_solis, s_position, airmass_a, angle, location,power=22, model_irrad= model_irradiance, tilt=10, angle=90 )\n",
    "pred = df_pred.values"
   ]
  },
  {
   "cell_type": "code",
   "execution_count": 33,
   "metadata": {},
   "outputs": [
    {
     "name": "stdout",
     "output_type": "stream",
     "text": [
      "Test Score: 7.16 RMSE\n",
      "RMSE en % :  36.729390006023635\n",
      "MAE :  4.501210651092187\n",
      "MAPE :  8474892743255375.0\n",
      "R2 :  -2.296141175977176\n"
     ]
    }
   ],
   "source": [
    "testScore = np.sqrt(MSE(real, pred))\n",
    "print('Test Score: %.2f RMSE' % (testScore))\n",
    "print('RMSE en % : ', testScore*100/real.max())\n",
    "test_mae = MAE(real, pred) \n",
    "print(\"MAE : \",test_mae)\n",
    "test_mape = MAPE(real, pred) \n",
    "print(\"MAPE : \",test_mape)\n",
    "test_ape = APE(real, pred) \n",
    "print(\"R2 : \",test_ape)"
   ]
  },
  {
   "cell_type": "code",
   "execution_count": 34,
   "metadata": {},
   "outputs": [],
   "source": [
    "model_irradiance = 'isotropic'"
   ]
  },
  {
   "cell_type": "code",
   "execution_count": 35,
   "metadata": {},
   "outputs": [],
   "source": [
    "df_pred = calcule_pred(model_solis, s_position, airmass_a, angle, location,power=22, model_irrad= model_irradiance, tilt=10, angle=90 )\n",
    "pred = df_pred.values"
   ]
  },
  {
   "cell_type": "code",
   "execution_count": 36,
   "metadata": {},
   "outputs": [
    {
     "name": "stdout",
     "output_type": "stream",
     "text": [
      "Test Score: 7.07 RMSE\n",
      "RMSE en % :  36.25690852511389\n",
      "MAE :  4.4327463463563035\n",
      "MAPE :  8276932313320938.0\n",
      "R2 :  -2.2118844648135028\n"
     ]
    }
   ],
   "source": [
    "\n",
    "testScore = np.sqrt(MSE(real, pred))\n",
    "print('Test Score: %.2f RMSE' % (testScore))\n",
    "print('RMSE en % : ', testScore*100/real.max())\n",
    "test_mae = MAE(real, pred) \n",
    "print(\"MAE : \",test_mae)\n",
    "test_mape = MAPE(real, pred) \n",
    "print(\"MAPE : \",test_mape)\n",
    "test_ape = APE(real, pred) \n",
    "print(\"R2 : \",test_ape)"
   ]
  },
  {
   "cell_type": "code",
   "execution_count": 37,
   "metadata": {},
   "outputs": [],
   "source": [
    "model_irradiance = 'klucher'"
   ]
  },
  {
   "cell_type": "code",
   "execution_count": 38,
   "metadata": {},
   "outputs": [],
   "source": [
    "df_pred = calcule_pred(model_solis, s_position, airmass_a, angle, location, power=22, model_irrad= model_irradiance, tilt=10, angle=90 )\n",
    "pred = df_pred.values"
   ]
  },
  {
   "cell_type": "code",
   "execution_count": 39,
   "metadata": {},
   "outputs": [
    {
     "name": "stdout",
     "output_type": "stream",
     "text": [
      "Test Score: 7.21 RMSE\n",
      "RMSE en % :  36.98673261602077\n",
      "MAE :  4.520262522200935\n",
      "MAPE :  8525934295300376.0\n",
      "R2 :  -2.3424914769102094\n"
     ]
    }
   ],
   "source": [
    "\n",
    "testScore = np.sqrt(MSE(real, pred))\n",
    "print('Test Score: %.2f RMSE' % (testScore))\n",
    "print('RMSE en % : ', testScore*100/real.max())\n",
    "test_mae = MAE(real, pred) \n",
    "print(\"MAE : \",test_mae)\n",
    "test_mape = MAPE(real, pred) \n",
    "print(\"MAPE : \",test_mape)\n",
    "test_ape = APE(real, pred) \n",
    "print(\"R2 : \",test_ape)"
   ]
  },
  {
   "cell_type": "code",
   "execution_count": 40,
   "metadata": {},
   "outputs": [
    {
     "data": {
      "image/png": "[encoded data removed]",
      "text/plain": [
       "<Figure size 1440x432 with 1 Axes>"
      ]
     },
     "metadata": {
      "needs_background": "light"
     },
     "output_type": "display_data"
    }
   ],
   "source": [
    "plt.plot(df_pred)\n",
    "plt.plot(data_frame_floor)\n",
    "plt.show()"
   ]
  },
  {
   "cell_type": "code",
   "execution_count": null,
   "metadata": {},
   "outputs": [],
   "source": []
  }
 ],
 "metadata": {
  "kernelspec": {
   "display_name": "Python 3.8.8 ('base')",
   "language": "python",
   "name": "python3"
  },
  "language_info": {
   "codemirror_mode": {
    "name": "ipython",
    "version": 3
   },
   "file_extension": ".py",
   "mimetype": "text/x-python",
   "name": "python",
   "nbconvert_exporter": "python",
   "pygments_lexer": "ipython3",
   "version": "3.8.8"
  },
  "orig_nbformat": 4,
  "vscode": {
   "interpreter": {
    "hash": "a7455cdfac60d7b8142d1b29862355b106b121e0abdf15915c090cbbd74f1dc9"
   }
  }
 },
 "nbformat": 4,
 "nbformat_minor": 2
}
